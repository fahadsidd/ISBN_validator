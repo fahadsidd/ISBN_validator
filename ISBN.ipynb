{
 "cells": [
  {
   "cell_type": "code",
   "execution_count": 53,
   "metadata": {},
   "outputs": [],
   "source": [
    "import pandas as pd\n",
    "import re\n",
    "df=pd.read_excel('/Users/fahadsiddiqui/Desktop/ISBN_cisco.xlsx')\n",
    "d = {'Name': [], 'Year': str([]), 'ISBN':[]}\n",
    "df_temp = pd.DataFrame(data=d)\n",
    "df_final = pd.DataFrame(data=d)"
   ]
  },
  {
   "cell_type": "code",
   "execution_count": 54,
   "metadata": {},
   "outputs": [
    {
     "data": {
      "text/html": [
       "<div>\n",
       "<style scoped>\n",
       "    .dataframe tbody tr th:only-of-type {\n",
       "        vertical-align: middle;\n",
       "    }\n",
       "\n",
       "    .dataframe tbody tr th {\n",
       "        vertical-align: top;\n",
       "    }\n",
       "\n",
       "    .dataframe thead th {\n",
       "        text-align: right;\n",
       "    }\n",
       "</style>\n",
       "<table border=\"1\" class=\"dataframe\">\n",
       "  <thead>\n",
       "    <tr style=\"text-align: right;\">\n",
       "      <th></th>\n",
       "      <th>Name</th>\n",
       "      <th>Year</th>\n",
       "      <th>ISBN</th>\n",
       "    </tr>\n",
       "  </thead>\n",
       "  <tbody>\n",
       "    <tr>\n",
       "      <th>0</th>\n",
       "      <td>Learning Spark: Lightning-Fast Big Data Analysis</td>\n",
       "      <td>2015</td>\n",
       "      <td>ISBN: 978-1449358624</td>\n",
       "    </tr>\n",
       "    <tr>\n",
       "      <th>1</th>\n",
       "      <td>Learning Spark: Lightning-Fast Big Data Analysis1</td>\n",
       "      <td>2016</td>\n",
       "      <td>ISBN: 978-1-56619-909-4</td>\n",
       "    </tr>\n",
       "    <tr>\n",
       "      <th>2</th>\n",
       "      <td>Learning Spark: Lightning-Fast Big Data Analysis1</td>\n",
       "      <td>2017</td>\n",
       "      <td>ISBN-4234533534gdfsgds</td>\n",
       "    </tr>\n",
       "  </tbody>\n",
       "</table>\n",
       "</div>"
      ],
      "text/plain": [
       "                                                Name  Year  \\\n",
       "0   Learning Spark: Lightning-Fast Big Data Analysis  2015   \n",
       "1  Learning Spark: Lightning-Fast Big Data Analysis1  2016   \n",
       "2  Learning Spark: Lightning-Fast Big Data Analysis1  2017   \n",
       "\n",
       "                       ISBN  \n",
       "0      ISBN: 978-1449358624  \n",
       "1  ISBN: 978-1-56619-909-4   \n",
       "2    ISBN-4234533534gdfsgds  "
      ]
     },
     "execution_count": 54,
     "metadata": {},
     "output_type": "execute_result"
    }
   ],
   "source": [
    "df"
   ]
  },
  {
   "cell_type": "code",
   "execution_count": 55,
   "metadata": {},
   "outputs": [],
   "source": [
    "def isbn_valid_no(isbn):\n",
    "    if len(isbn) == 13:\n",
    "        if isbn[:3] == \"978\" or isbn[:3] == \"979\":\n",
    "            return True\n",
    "        else:\n",
    "            return False\n",
    "    else:\n",
    "        return False"
   ]
  },
  {
   "cell_type": "code",
   "execution_count": 56,
   "metadata": {},
   "outputs": [],
   "source": [
    "def isbn_check(isbn):\n",
    "    cisbn=isbn[:12]\n",
    "    #print(cisbn)\n",
    "    check=isbn[-1:]\n",
    "    #print(check)\n",
    "    count=0\n",
    "    sum=0\n",
    "    for digit in cisbn:\n",
    "        if count%2 == 0:\n",
    "            sum+=int(digit)\n",
    "        elif count%2 ==1:\n",
    "            sum+=int(digit)*3\n",
    "        count+=1\n",
    "    #print(sum)\n",
    "    if 10-sum%10==int(check):\n",
    "        return True\n",
    "    else:\n",
    "        return False"
   ]
  },
  {
   "cell_type": "code",
   "execution_count": 57,
   "metadata": {},
   "outputs": [],
   "source": [
    "def isbn_ifValidTransform(isbn, name, year):\n",
    "    if isbn_valid_no(isbn) == True & isbn_check(isbn) == True:\n",
    "        df_temp.loc['1']=[name, year, 'ISBN: '+isbn]\n",
    "        df_temp.loc['2']=[name, year, 'ISBN-EAN: '+isbn[:3]]\n",
    "        df_temp.loc['3']=[name, year, 'ISBN-GROUP: '+isbn[3:5]]\n",
    "        df_temp.loc['4']=[name, year, 'ISBN-PUBLISHER: '+isbn[5:9]]\n",
    "        df_temp.loc['5']=[name, year, 'ISBN-TITLE: '+isbn[9:12]]\n",
    "        global df_final\n",
    "        df_final=df_final.append(df_temp, ignore_index=True)"
   ]
  },
  {
   "cell_type": "code",
   "execution_count": 58,
   "metadata": {},
   "outputs": [],
   "source": [
    "def isbn_etl(file):\n",
    "    for isbn, name, year in zip(df.ISBN, df.Name, df.Year):\n",
    "        isbn=re.sub(r'[^0-9]+', r'', isbn)\n",
    "        isbn_ifValidTransform(isbn, name, year)\n",
    "        #df_temp=df_temp.append(df_temp,ignore_index=True)\n",
    "        "
   ]
  },
  {
   "cell_type": "code",
   "execution_count": 59,
   "metadata": {},
   "outputs": [
    {
     "data": {
      "text/html": [
       "<div>\n",
       "<style scoped>\n",
       "    .dataframe tbody tr th:only-of-type {\n",
       "        vertical-align: middle;\n",
       "    }\n",
       "\n",
       "    .dataframe tbody tr th {\n",
       "        vertical-align: top;\n",
       "    }\n",
       "\n",
       "    .dataframe thead th {\n",
       "        text-align: right;\n",
       "    }\n",
       "</style>\n",
       "<table border=\"1\" class=\"dataframe\">\n",
       "  <thead>\n",
       "    <tr style=\"text-align: right;\">\n",
       "      <th></th>\n",
       "      <th>Name</th>\n",
       "      <th>Year</th>\n",
       "      <th>ISBN</th>\n",
       "    </tr>\n",
       "  </thead>\n",
       "  <tbody>\n",
       "    <tr>\n",
       "      <th>0</th>\n",
       "      <td>Learning Spark: Lightning-Fast Big Data Analysis</td>\n",
       "      <td>2015</td>\n",
       "      <td>ISBN: 9781449358624</td>\n",
       "    </tr>\n",
       "    <tr>\n",
       "      <th>1</th>\n",
       "      <td>Learning Spark: Lightning-Fast Big Data Analysis</td>\n",
       "      <td>2015</td>\n",
       "      <td>ISBN-EAN: 978</td>\n",
       "    </tr>\n",
       "    <tr>\n",
       "      <th>2</th>\n",
       "      <td>Learning Spark: Lightning-Fast Big Data Analysis</td>\n",
       "      <td>2015</td>\n",
       "      <td>ISBN-GROUP: 14</td>\n",
       "    </tr>\n",
       "    <tr>\n",
       "      <th>3</th>\n",
       "      <td>Learning Spark: Lightning-Fast Big Data Analysis</td>\n",
       "      <td>2015</td>\n",
       "      <td>ISBN-PUBLISHER: 4935</td>\n",
       "    </tr>\n",
       "    <tr>\n",
       "      <th>4</th>\n",
       "      <td>Learning Spark: Lightning-Fast Big Data Analysis</td>\n",
       "      <td>2015</td>\n",
       "      <td>ISBN-TITLE: 862</td>\n",
       "    </tr>\n",
       "    <tr>\n",
       "      <th>5</th>\n",
       "      <td>Learning Spark: Lightning-Fast Big Data Analysis1</td>\n",
       "      <td>2016</td>\n",
       "      <td>ISBN: 9781566199094</td>\n",
       "    </tr>\n",
       "    <tr>\n",
       "      <th>6</th>\n",
       "      <td>Learning Spark: Lightning-Fast Big Data Analysis1</td>\n",
       "      <td>2016</td>\n",
       "      <td>ISBN-EAN: 978</td>\n",
       "    </tr>\n",
       "    <tr>\n",
       "      <th>7</th>\n",
       "      <td>Learning Spark: Lightning-Fast Big Data Analysis1</td>\n",
       "      <td>2016</td>\n",
       "      <td>ISBN-GROUP: 15</td>\n",
       "    </tr>\n",
       "    <tr>\n",
       "      <th>8</th>\n",
       "      <td>Learning Spark: Lightning-Fast Big Data Analysis1</td>\n",
       "      <td>2016</td>\n",
       "      <td>ISBN-PUBLISHER: 6619</td>\n",
       "    </tr>\n",
       "    <tr>\n",
       "      <th>9</th>\n",
       "      <td>Learning Spark: Lightning-Fast Big Data Analysis1</td>\n",
       "      <td>2016</td>\n",
       "      <td>ISBN-TITLE: 909</td>\n",
       "    </tr>\n",
       "  </tbody>\n",
       "</table>\n",
       "</div>"
      ],
      "text/plain": [
       "                                                Name  Year  \\\n",
       "0   Learning Spark: Lightning-Fast Big Data Analysis  2015   \n",
       "1   Learning Spark: Lightning-Fast Big Data Analysis  2015   \n",
       "2   Learning Spark: Lightning-Fast Big Data Analysis  2015   \n",
       "3   Learning Spark: Lightning-Fast Big Data Analysis  2015   \n",
       "4   Learning Spark: Lightning-Fast Big Data Analysis  2015   \n",
       "5  Learning Spark: Lightning-Fast Big Data Analysis1  2016   \n",
       "6  Learning Spark: Lightning-Fast Big Data Analysis1  2016   \n",
       "7  Learning Spark: Lightning-Fast Big Data Analysis1  2016   \n",
       "8  Learning Spark: Lightning-Fast Big Data Analysis1  2016   \n",
       "9  Learning Spark: Lightning-Fast Big Data Analysis1  2016   \n",
       "\n",
       "                   ISBN  \n",
       "0   ISBN: 9781449358624  \n",
       "1         ISBN-EAN: 978  \n",
       "2        ISBN-GROUP: 14  \n",
       "3  ISBN-PUBLISHER: 4935  \n",
       "4       ISBN-TITLE: 862  \n",
       "5   ISBN: 9781566199094  \n",
       "6         ISBN-EAN: 978  \n",
       "7        ISBN-GROUP: 15  \n",
       "8  ISBN-PUBLISHER: 6619  \n",
       "9       ISBN-TITLE: 909  "
      ]
     },
     "execution_count": 59,
     "metadata": {},
     "output_type": "execute_result"
    }
   ],
   "source": [
    "isbn_etl(df)\n",
    "df_final"
   ]
  },
  {
   "cell_type": "code",
   "execution_count": null,
   "metadata": {},
   "outputs": [],
   "source": []
  },
  {
   "cell_type": "code",
   "execution_count": null,
   "metadata": {},
   "outputs": [],
   "source": []
  },
  {
   "cell_type": "code",
   "execution_count": null,
   "metadata": {},
   "outputs": [],
   "source": []
  },
  {
   "cell_type": "code",
   "execution_count": null,
   "metadata": {},
   "outputs": [],
   "source": []
  },
  {
   "cell_type": "code",
   "execution_count": null,
   "metadata": {},
   "outputs": [],
   "source": []
  }
 ],
 "metadata": {
  "kernelspec": {
   "display_name": "Python 3",
   "language": "python",
   "name": "python3"
  },
  "language_info": {
   "codemirror_mode": {
    "name": "ipython",
    "version": 3
   },
   "file_extension": ".py",
   "mimetype": "text/x-python",
   "name": "python",
   "nbconvert_exporter": "python",
   "pygments_lexer": "ipython3",
   "version": "3.6.5"
  }
 },
 "nbformat": 4,
 "nbformat_minor": 2
}
